{
 "cells": [
  {
   "cell_type": "code",
   "execution_count": null,
   "id": "3d548c22",
   "metadata": {},
   "outputs": [],
   "source": [
    "import os\n",
    "os.chdir(\"/LOCAL/jjerome/GitHub/rl4mm/\")\n",
    "\n",
    "from copy import deepcopy\n",
    "\n",
    "import numpy as np\n",
    "import matplotlib.pyplot as plt\n",
    "import matplotlib\n",
    "from datetime import datetime, timedelta\n",
    "import pandas as pd\n",
    "\n",
    "from rl4mm.agents.baseline_agents import Teradactyl, FixedActionAgent\n",
    "from rl4mm.database.HistoricalDatabase import HistoricalDatabase\n",
    "from rl4mm.features.Features import Inventory\n",
    "from rl4mm.gym.action_interpretation.OrderDistributors import BetaOrderDistributor\n",
    "from rl4mm.gym.HistoricalOrderbookEnvironment import HistoricalOrderbookEnvironment\n",
    "from rl4mm.gym.order_tracking.InfoCalculators import SimpleInfoCalculator\n",
    "from rl4mm.gym.utils import generate_trajectory\n",
    "from rl4mm.simulation.HistoricalOrderGenerator import HistoricalOrderGenerator\n",
    "from rl4mm.simulation.OrderbookSimulator import OrderbookSimulator\n",
    "\n",
    "plt.rcParams[\"figure.figsize\"] = (10,6)\n",
    "matplotlib.rcParams['mathtext.fontset'] = 'stix'\n",
    "matplotlib.rcParams['font.family'] = 'STIXGeneral'"
   ]
  },
  {
   "cell_type": "code",
   "execution_count": null,
   "id": "3f4e064e",
   "metadata": {},
   "outputs": [],
   "source": [
    "TOTAL_VOLUME = 100\n",
    "max_inventory = 250\n",
    "enter_spread = False\n",
    "step_size = timedelta(seconds = 5)\n",
    "min_quote_level = 0\n",
    "max_quote_level = 20"
   ]
  },
  {
   "cell_type": "code",
   "execution_count": null,
   "id": "fa7aee62",
   "metadata": {},
   "outputs": [],
   "source": [
    "a = 1\n",
    "b = 2\n",
    "default_omega = Teradactyl.calculate_omega(a, b)\n",
    "default_kappa = Teradactyl.calculate_kappa(a, b)"
   ]
  },
  {
   "cell_type": "code",
   "execution_count": null,
   "id": "a2267376",
   "metadata": {},
   "outputs": [],
   "source": [
    "min_date = datetime(2022,3,2)\n",
    "max_date = datetime(2022,3,2)\n",
    "ticker = \"JPM\"\n",
    "episode_length = timedelta(minutes=60)\n",
    "timesteps = np.arange(0,60,1/12)\n",
    "fixed = FixedActionAgent(np.array([1,2,1,2, max_inventory]))\n",
    "min_start_timedelta=timedelta(hours = 10, minutes=30)\n",
    "max_end_timedelta=timedelta(hours=11, minutes=30)"
   ]
  },
  {
   "cell_type": "code",
   "execution_count": null,
   "id": "9e75e27f",
   "metadata": {},
   "outputs": [],
   "source": [
    "def get_env(market_order_clearing:bool=False, market_order_fraction_of_inventory:float=0.0):\n",
    "    simulator = OrderbookSimulator(\n",
    "            ticker=ticker,\n",
    "            order_generators=[HistoricalOrderGenerator(ticker, HistoricalDatabase())],\n",
    "            n_levels=50,\n",
    "            episode_length=episode_length,\n",
    "        )\n",
    "    order_distributor = BetaOrderDistributor(quote_levels=max_quote_level- min_quote_level, active_volume=TOTAL_VOLUME)\n",
    "    info_calculator = SimpleInfoCalculator(market_order_fraction_of_inventory=market_order_fraction_of_inventory)\n",
    "    return HistoricalOrderbookEnvironment(features=[Inventory()],\n",
    "                                          min_date=min_date,\n",
    "                                          simulator=simulator,\n",
    "                                          max_date=max_date,\n",
    "                                          min_start_timedelta=min_start_timedelta,\n",
    "                                          max_end_timedelta=max_end_timedelta, \n",
    "                                          episode_length=episode_length,\n",
    "                                          min_quote_level=min_quote_level,\n",
    "                                          max_quote_level=max_quote_level,\n",
    "                                          enter_spread=enter_spread,\n",
    "                                          step_size = step_size,\n",
    "                                          ticker= \"JPM\",\n",
    "                                          market_order_clearing=market_order_clearing,\n",
    "                                          market_order_fraction_of_inventory=market_order_fraction_of_inventory, \n",
    "                                          preload_orders=True,\n",
    "                                          info_calculator=info_calculator)\n",
    "\n",
    "def moving_average(x, w):\n",
    "    return np.convolve(x, np.ones(w), 'valid') / w\n",
    "\n",
    "trajectories = {}\n",
    "market_order_types = {\"no_market\":(False, 0.0), \"full_market\":(True, 1.0), \"half_market\":(True,0.5)}"
   ]
  },
  {
   "cell_type": "markdown",
   "id": "53ff424c",
   "metadata": {},
   "source": [
    "## Market Order Clearing"
   ]
  },
  {
   "cell_type": "code",
   "execution_count": null,
   "id": "ba3c0758",
   "metadata": {},
   "outputs": [],
   "source": [
    "for name, value in market_order_types.items():\n",
    "    env = get_env(value[0],value[1])\n",
    "    trajectories[name] = generate_trajectory(fixed,env)"
   ]
  },
  {
   "cell_type": "code",
   "execution_count": null,
   "id": "d6ecb9bb",
   "metadata": {},
   "outputs": [],
   "source": [
    "fig, ax_left = plt.subplots()\n",
    "\n",
    "ax_left.plot(timesteps,np.cumsum(trajectories[\"no_market\"][\"rewards\"])/10000, label = \"No MOC\", color='r', linestyle = \":\", linewidth = 1.5)\n",
    "ax_left.plot(timesteps,np.cumsum(trajectories[\"full_market\"][\"rewards\"])/10000, label = r\"MOC with frac_inv = 1\", color='k', linestyle=\"-\", linewidth = 1.5)\n",
    "ax_left.plot(timesteps,np.cumsum(trajectories[\"half_market\"][\"rewards\"])/10000, label = r\"MOC with frac_inv = 0.5\", color='k', linestyle=\":\", linewidth = 1.5)\n",
    "plt.yticks(fontsize=15)\n",
    "plt.xticks(fontsize=15)\n",
    "plt.ylabel(r'PnL (\\$)', fontsize=20)\n",
    "plt.xlabel(r'Time (mins)', fontsize=20)\n",
    "ax_left.legend(loc=\"upper left\", fontsize=15)\n",
    "plt.title(r'PnL with and without market order clearing (MOC)', fontsize=25, y = 1.01)\n",
    "plt.show()\n",
    "# plt.savefig(\"/home/staffi/ecco/jjerome/Documents/fixed_and_market_order_rewards.pdf\")"
   ]
  },
  {
   "cell_type": "code",
   "execution_count": null,
   "id": "f434f84b",
   "metadata": {},
   "outputs": [],
   "source": [
    "fig, ax_left = plt.subplots()\n",
    "ax_left.plot(timesteps,np.array([info['inventory'] for info in trajectories[\"no_market\"][\"infos\"]]), label = \"No MOC\", color='r', linestyle = \":\", linewidth = 1.5)\n",
    "ax_left.plot(timesteps,np.array([info['inventory'] for info in trajectories[\"full_market\"][\"infos\"]]), label = r\"MOC with frac_inv = 1\", color='black', linestyle=\"-\", linewidth = 1.5)\n",
    "ax_left.plot(timesteps,np.array([info['inventory'] for info in trajectories[\"half_market\"][\"infos\"]]), label = r\"MOC with frac_inv = 0.5\", color='black', linestyle=\":\", linewidth = 1.5)\n",
    "plt.ylabel(r'Inventory', fontsize=20)\n",
    "ax_left.legend(loc=\"lower left\", fontsize=15)\n",
    "plt.yticks(fontsize=15)\n",
    "plt.xticks(fontsize=15)\n",
    "plt.xlabel(r'Time (mins)', fontsize=20)\n",
    "\n",
    "\n",
    "plt.title(r'Agent inventory with and without market order clearing (MOC)', fontsize=25, y = 1.02)\n",
    "# plt.savefig(\"/home/staffi/ecco/jjerome/Documents/fixed_and_market_order_inventory.pdf\")\n",
    "plt.show()"
   ]
  },
  {
   "cell_type": "markdown",
   "id": "204a958d",
   "metadata": {},
   "source": [
    "## Teradactyl (midprice skewing agent)"
   ]
  },
  {
   "cell_type": "code",
   "execution_count": null,
   "id": "b2fcd89c",
   "metadata": {},
   "outputs": [],
   "source": [
    "default_kappa = 7\n",
    "default_omega = 0.5\n",
    "max_kappa = default_kappa*30\n",
    "exponent = 2\n",
    "max_inventory = 1000"
   ]
  },
  {
   "cell_type": "code",
   "execution_count": null,
   "id": "988c1d0e",
   "metadata": {},
   "outputs": [],
   "source": [
    "tera = Teradactyl(max_inventory=max_inventory,\n",
    "                                default_kappa = default_kappa,\n",
    "                                default_omega=default_omega,\n",
    "                                max_kappa=max_kappa, \n",
    "                                exponent=exponent, \n",
    "                                inventory_index=0)"
   ]
  },
  {
   "cell_type": "code",
   "execution_count": null,
   "id": "5ce61b8e",
   "metadata": {},
   "outputs": [],
   "source": [
    "env = get_env()"
   ]
  },
  {
   "cell_type": "code",
   "execution_count": null,
   "id": "716bc453",
   "metadata": {},
   "outputs": [],
   "source": [
    "tera_trajectory = generate_trajectory(tera,env)"
   ]
  },
  {
   "cell_type": "code",
   "execution_count": null,
   "id": "236aaa49",
   "metadata": {},
   "outputs": [],
   "source": [
    "timesteps = np.arange(0,60,1/12)\n"
   ]
  },
  {
   "cell_type": "code",
   "execution_count": null,
   "id": "2598b2e5",
   "metadata": {},
   "outputs": [],
   "source": [
    "fig, ax_left = plt.subplots()\n",
    "ax_left.plot(timesteps,np.array([info[\"asset_price\"] for info in tera_trajectory[\"infos\"]])/10000, label = \"Asset price\", color='r', linestyle = \":\", linewidth = 1.5)\n",
    "\n",
    "plt.yticks(fontsize=12)\n",
    "plt.xticks(fontsize=12)\n",
    "plt.ylabel(r'Asset price (\\$)', fontsize=20)\n",
    "plt.yticks(fontsize=15)\n",
    "plt.xticks(fontsize=15)\n",
    "plt.xlabel(r'Time (mins)', fontsize=20)\n",
    "\n",
    "ax_right = ax_left.twinx()\n",
    "\n",
    "ax_right.plot(timesteps,np.cumsum(tera_trajectory[\"rewards\"])/10000, label = \"PnL\", color='k', linestyle=\"-\", linewidth = 1.5)\n",
    "ax_left.legend(loc=\"upper left\", fontsize=15)\n",
    "ax_right.legend(loc=\"lower left\", fontsize=15)\n",
    "plt.ylabel(r'PnL (\\$)', fontsize=20)\n",
    "ax_right.yaxis.set_label_coords(1.09, 0.5)\n",
    "\n",
    "plt.title(r'Trajectory of the underlying asset price and agent PnL', fontsize=25, y = 1.01)\n",
    "\n",
    "plt.yticks(fontsize=15)\n",
    "plt.xticks(fontsize=15)\n",
    "\n",
    "# plt.savefig(\"/home/staffi/ecco/jjerome/Documents/asset_price_and_rewards.pdf\")\n",
    "plt.show()"
   ]
  },
  {
   "cell_type": "code",
   "execution_count": null,
   "id": "9946328e",
   "metadata": {},
   "outputs": [],
   "source": [
    "fig, ax_left = plt.subplots()\n",
    "ax_left.plot(timesteps,np.array([info['inventory'] for info in tera_trajectory[\"infos\"]]), label = \"Inventory\", color='k', linestyle = \"-\")\n",
    "\n",
    "plt.ylabel(r'Inventory', fontsize=20)\n",
    "plt.yticks(fontsize=15)\n",
    "plt.xticks(fontsize=15)\n",
    "plt.xlabel(r'Time (mins)', fontsize=20)\n",
    "ax_right = ax_left.twinx()\n",
    "\n",
    "ax_right.plot(timesteps[9:],moving_average(np.array([info['weighted_midprice_offset'] for info in tera_trajectory[\"infos\"]]),10), label = 'Midprice offset', color='r', linestyle=\":\")\n",
    "ax_left.legend(loc=\"lower right\", fontsize=15)\n",
    "ax_right.legend(loc=\"upper right\", fontsize=15)\n",
    "plt.ylabel(r'Midprice offset', fontsize=20)\n",
    "\n",
    "plt.title(\"Inventory and midprice offset\", fontsize=25, y = 1.01)\n",
    "\n",
    "\n",
    "plt.yticks(fontsize=15)\n",
    "plt.xticks(fontsize=15)\n",
    "\n",
    "# plt.savefig(\"/home/staffi/ecco/jjerome/Documents/inventory_midprice.pdf\")\n",
    "\n",
    "plt.show()"
   ]
  },
  {
   "cell_type": "markdown",
   "id": "4b0815b9",
   "metadata": {},
   "source": [
    "## Takeaways\n",
    "- kappa needs to be quite high for the agent to successfully clear inventory.\n",
    "- Perhaps kappa should increase in absolute inventory as well as omega\n",
    "- should the default omega increase with step size?\n",
    "- State dependent omega and kappa?"
   ]
  }
 ],
 "metadata": {
  "kernelspec": {
   "display_name": "Python 3 (ipykernel)",
   "language": "python",
   "name": "python3"
  },
  "language_info": {
   "codemirror_mode": {
    "name": "ipython",
    "version": 3
   },
   "file_extension": ".py",
   "mimetype": "text/x-python",
   "name": "python",
   "nbconvert_exporter": "python",
   "pygments_lexer": "ipython3",
   "version": "3.9.12"
  }
 },
 "nbformat": 4,
 "nbformat_minor": 5
}
