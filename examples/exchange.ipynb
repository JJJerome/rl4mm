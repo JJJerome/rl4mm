{
 "cells": [
  {
   "cell_type": "markdown",
   "id": "e9a26885",
   "metadata": {},
   "source": [
    "# Exploring the mechanism of `Exchange`"
   ]
  },
  {
   "cell_type": "code",
   "execution_count": null,
   "id": "baa17db2",
   "metadata": {},
   "outputs": [],
   "source": [
    "from datetime import datetime, timedelta\n",
    "\n",
    "import os\n",
    "os.chdir(\"..\")  # path to the base directory of RL4MM\n",
    "from RL4MM.orderbook.create_order import create_order, OrderDict\n",
    "from RL4MM.orderbook.models import Order, Orderbook, LimitOrder, MarketOrder, Cancellation, Deletion\n",
    "from RL4MM.orderbook.Exchange import *\n",
    "from RL4MM.orderbook.helpers import *\n",
    "\n",
    "# Jedi not working\n",
    "%config Completer.use_jedi = False"
   ]
  },
  {
   "cell_type": "code",
   "execution_count": null,
   "id": "00a3b8ea",
   "metadata": {},
   "outputs": [],
   "source": [
    "ticker=\"FAKE\"\n",
    "start = datetime(2019,1,2,10,35,45)\n",
    "delta = timedelta(microseconds = 100000)"
   ]
  },
  {
   "cell_type": "markdown",
   "id": "4bef9004",
   "metadata": {},
   "source": [
    "## To manage an Orderbook, create an ```Exchange```\n",
    "\n",
    "each exchange automatically initialises an ```Orderbook``` to keep track of."
   ]
  },
  {
   "cell_type": "code",
   "execution_count": null,
   "id": "5b062c9b",
   "metadata": {},
   "outputs": [],
   "source": [
    "exchange = Exchange(ticker)\n",
    "orderbook = exchange.central_orderbook"
   ]
  },
  {
   "cell_type": "markdown",
   "id": "215709fb",
   "metadata": {},
   "source": [
    "## Make some tools to create orders of different types"
   ]
  },
  {
   "cell_type": "code",
   "execution_count": null,
   "id": "8d8a24ef",
   "metadata": {
    "code_folding": []
   },
   "outputs": [],
   "source": [
    "def get_limit_order(timestamp:datetime, price:float, volume:int, direction:str, internal_id: int):\n",
    "    return LimitOrder(timestamp = timestamp, price = price, volume=volume, direction=direction, ticker = \"MSFT,=\", internal_id=internal_id, external_id=None, is_external= True)\n",
    "def get_market_order(timestamp:datetime, volume:int, direction:str, internal_id: int=None):\n",
    "    return MarketOrder(timestamp = timestamp, volume=volume, direction=direction, ticker = \"MSFT,=\", internal_id=internal_id, external_id=None, is_external= True)\n",
    "def get_cancellation(timestamp:datetime, price: float, volume:int, direction:str, internal_id:int):\n",
    "    return Cancellation(timestamp = timestamp, price = price, volume=volume, direction=direction, ticker = \"MSFT,=\",  internal_id = internal_id, external_id=None, is_external= True)\n",
    "def get_deletion(timestamp:datetime, price: float, direction:str, internal_id):\n",
    "    return Deletion(timestamp = timestamp, price = price, volume = None, direction=direction, ticker = \"MSFT\", internal_id = internal_id, external_id=None, is_external= True)"
   ]
  },
  {
   "cell_type": "markdown",
   "id": "d7013925",
   "metadata": {},
   "source": [
    "## Submitting limit orders"
   ]
  },
  {
   "cell_type": "code",
   "execution_count": null,
   "id": "094a27fc",
   "metadata": {},
   "outputs": [],
   "source": [
    "limit_buy_price_vol_tuples = ((99.8,10), (99.85, 50), (99.87, 100), (99.9, 80), (99.95, 100), (99.98, 200))\n",
    "limit_sell_price_vol_tuples = ((100.1,20), (100.05, 30), (100.04, 60), (100.02, 80), (100.01, 150))\n",
    "internal_id = 1\n",
    "ts = start\n",
    "limit_orders = list()\n",
    "for price, vol in limit_buy_price_vol_tuples:\n",
    "    limit_orders.append(get_limit_order(ts, price, vol, \"buy\", internal_id))\n",
    "    internal_id +=1\n",
    "    ts +=delta\n",
    "for price, vol in limit_sell_price_vol_tuples:\n",
    "    limit_orders.append(get_limit_order(ts, price, vol, \"sell\", internal_id))\n",
    "    internal_id +=1\n",
    "    ts +=delta       "
   ]
  },
  {
   "cell_type": "code",
   "execution_count": null,
   "id": "7517cf65",
   "metadata": {},
   "outputs": [],
   "source": [
    "for order in limit_orders:\n",
    "    exchange.process_order(order)\n",
    "visualise_orderbook(exchange.central_orderbook)"
   ]
  },
  {
   "cell_type": "markdown",
   "id": "b1c95889",
   "metadata": {},
   "source": [
    "## Market orders"
   ]
  },
  {
   "cell_type": "code",
   "execution_count": null,
   "id": "6befc555",
   "metadata": {},
   "outputs": [],
   "source": [
    "market_order = get_market_order(direction=\"sell\", volume=150, timestamp=ts)\n",
    "ts += delta\n",
    "exchange.process_order(market_order)\n",
    "visualise_orderbook(exchange.central_orderbook)"
   ]
  },
  {
   "cell_type": "markdown",
   "id": "f1e300bc",
   "metadata": {},
   "source": [
    "### Trying to place a market order that takes all the volume from the book, and more\n",
    "\n",
    "Note that perhaps this is not the desired behaviour and we should let the market order take all the liquidity (as we currently do) but then just ignore the rest. To discuss."
   ]
  },
  {
   "cell_type": "code",
   "execution_count": null,
   "id": "df836fbe",
   "metadata": {},
   "outputs": [],
   "source": [
    "market_order = get_market_order(direction=\"sell\", volume=700, timestamp=ts)\n",
    "ts += delta\n",
    "\n",
    "try:\n",
    "    exchange.process_order(market_order)\n",
    "except EmptyOrderbookError:\n",
    "    print(\"Volume too large!\")    "
   ]
  },
  {
   "cell_type": "markdown",
   "id": "8a2771ad",
   "metadata": {},
   "source": [
    "## Cancellations and Deletions"
   ]
  },
  {
   "cell_type": "code",
   "execution_count": null,
   "id": "839e9c57",
   "metadata": {},
   "outputs": [],
   "source": [
    "# reset orderbook\n",
    "exchange.central_orderbook = exchange.get_empty_orderbook()\n",
    "for order in limit_orders:\n",
    "    exchange.process_order(order)"
   ]
  },
  {
   "cell_type": "code",
   "execution_count": null,
   "id": "19dfb3c0",
   "metadata": {},
   "outputs": [],
   "source": [
    "exchange.central_orderbook.buy"
   ]
  },
  {
   "cell_type": "code",
   "execution_count": null,
   "id": "4d8248a4",
   "metadata": {},
   "outputs": [],
   "source": [
    "# We cancel half of the buy order at level 99.9\n",
    "order = exchange.central_orderbook.buy[99.9][0]\n",
    "cancellation = get_cancellation(timestamp=ts, price = order.price, direction=\"buy\", internal_id=order.internal_id, volume=order.volume/2)\n",
    "ts += delta"
   ]
  },
  {
   "cell_type": "code",
   "execution_count": null,
   "id": "28fe83e2",
   "metadata": {},
   "outputs": [],
   "source": [
    "exchange.process_order(cancellation)"
   ]
  },
  {
   "cell_type": "code",
   "execution_count": null,
   "id": "e75e1f2d",
   "metadata": {},
   "outputs": [],
   "source": [
    "visualise_orderbook(exchange.central_orderbook)"
   ]
  },
  {
   "cell_type": "code",
   "execution_count": null,
   "id": "fa4ec6ad",
   "metadata": {},
   "outputs": [],
   "source": [
    "# Delete best order\n",
    "order = exchange.central_orderbook.buy[99.98][0]\n",
    "deletion = get_deletion(timestamp=ts, price = order.price, direction=\"buy\", internal_id=order.internal_id)\n",
    "ts += delta"
   ]
  },
  {
   "cell_type": "code",
   "execution_count": null,
   "id": "d1422d65",
   "metadata": {},
   "outputs": [],
   "source": [
    "deletion"
   ]
  },
  {
   "cell_type": "code",
   "execution_count": null,
   "id": "49bf5f83",
   "metadata": {},
   "outputs": [],
   "source": [
    "exchange.process_order(deletion)"
   ]
  },
  {
   "cell_type": "code",
   "execution_count": null,
   "id": "e11eff3f",
   "metadata": {},
   "outputs": [],
   "source": [
    "visualise_orderbook(exchange.central_orderbook)"
   ]
  },
  {
   "cell_type": "markdown",
   "id": "9f8d6206",
   "metadata": {},
   "source": [
    "## Crossing the spread with a limit order"
   ]
  },
  {
   "cell_type": "code",
   "execution_count": null,
   "id": "fb78cb29",
   "metadata": {},
   "outputs": [],
   "source": [
    "# reset orderbook\n",
    "exchange.central_orderbook = exchange.get_empty_orderbook()\n",
    "for order in limit_orders:\n",
    "    exchange.process_order(order)\n",
    "visualise_orderbook(exchange.central_orderbook)"
   ]
  },
  {
   "cell_type": "code",
   "execution_count": null,
   "id": "7c17c8ee",
   "metadata": {},
   "outputs": [],
   "source": [
    "limit_cross = get_limit_order(start, 100.03, 300, \"buy\", internal_id)\n",
    "internal_id +=1\n",
    "exchange.process_order(limit_cross)\n",
    "visualise_orderbook(exchange.central_orderbook)"
   ]
  }
 ],
 "metadata": {
  "hide_input": false,
  "kernelspec": {
   "display_name": "Python 3 (ipykernel)",
   "language": "python",
   "name": "python3"
  },
  "language_info": {
   "codemirror_mode": {
    "name": "ipython",
    "version": 3
   },
   "file_extension": ".py",
   "mimetype": "text/x-python",
   "name": "python",
   "nbconvert_exporter": "python",
   "pygments_lexer": "ipython3",
   "version": "3.9.13"
  },
  "toc": {
   "base_numbering": 1,
   "nav_menu": {},
   "number_sections": true,
   "sideBar": true,
   "skip_h1_title": false,
   "title_cell": "Table of Contents",
   "title_sidebar": "Contents",
   "toc_cell": false,
   "toc_position": {},
   "toc_section_display": true,
   "toc_window_display": false
  }
 },
 "nbformat": 4,
 "nbformat_minor": 5
}
