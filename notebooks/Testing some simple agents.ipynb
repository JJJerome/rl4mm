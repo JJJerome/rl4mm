{
 "cells": [
  {
   "cell_type": "markdown",
   "id": "e04c310e",
   "metadata": {},
   "source": [
    "# Testing some simple agents"
   ]
  },
  {
   "cell_type": "code",
   "execution_count": 1,
   "id": "a84741bd",
   "metadata": {},
   "outputs": [],
   "source": [
    "import sys\n",
    "import pandas as pd\n",
    "from datetime import datetime, timedelta\n",
    "sys.path.append(\"../\")"
   ]
  },
  {
   "cell_type": "code",
   "execution_count": 2,
   "id": "4fd3742c",
   "metadata": {},
   "outputs": [],
   "source": [
    "from RL4MM.agents.AddTouchAgent import AddTouchAgent\n",
    "from RL4MM.backtest.BacktestAnalyser import HistoricalBacktestAnalyser\n",
    "from RL4MM.backtest.Backtester import Backtester\n",
    "from RL4MM.database.HistoricalDatabase import HistoricalDatabase\n",
    "from RL4MM.simulator.OrderbookSimulator import HistoricalOrderbookSimulator, OrderbookMessage\n",
    "\n",
    "from RL4MM.features.Imbalance import Imbalance\n",
    "from RL4MM.features.Spread import Spread\n",
    "from RL4MM.features.MidpriceChange import MidpriceChange"
   ]
  },
  {
   "cell_type": "code",
   "execution_count": 3,
   "id": "f51ba34f",
   "metadata": {},
   "outputs": [],
   "source": [
    "start_date=datetime(2012,6,21,12,0)\n",
    "end_date=datetime(2012,6,21,12,10)\n",
    "step_size = timedelta(seconds=10)\n",
    "exchange=\"NASDAQ\"\n",
    "ticker=\"MSFT\"\n",
    "\n",
    "database = HistoricalDatabase()\n",
    "\n",
    "agent = AddTouchAgent(ticker=ticker, order_size = 10)\n",
    "# simulator = HistoricalOrderbookSimulator(exchange=exchange, ticker=ticker, database=database)\n",
    "\n",
    "backtester = Backtester(agent=agent)"
   ]
  },
  {
   "cell_type": "code",
   "execution_count": 4,
   "id": "82ea5b6c",
   "metadata": {
    "scrolled": true
   },
   "outputs": [
    {
     "name": "stderr",
     "output_type": "stream",
     "text": [
      "60it [00:04, 13.03it/s]\n"
     ]
    }
   ],
   "source": [
    "start_book=database.get_last_snapshot(start_date, exchange=exchange, ticker=ticker)\n",
    "backtester.run(start_date=start_date, end_date=end_date, step_size=step_size, start_book=start_book)"
   ]
  },
  {
   "cell_type": "code",
   "execution_count": 5,
   "id": "d4423ad4",
   "metadata": {
    "scrolled": true
   },
   "outputs": [],
   "source": [
    "m2f = backtester.results[\"remaining messages\"]"
   ]
  },
  {
   "cell_type": "code",
   "execution_count": 6,
   "id": "1986d684",
   "metadata": {},
   "outputs": [],
   "source": [
    "results = backtester.simulator.simulate_step(start_date,end_date, m2f)"
   ]
  },
  {
   "cell_type": "code",
   "execution_count": 7,
   "id": "2a72681d",
   "metadata": {},
   "outputs": [
    {
     "data": {
      "text/plain": [
       "-0.08000000000000185"
      ]
     },
     "execution_count": 7,
     "metadata": {},
     "output_type": "execute_result"
    }
   ],
   "source": [
    "results[\"midprice_change\"]"
   ]
  },
  {
   "cell_type": "code",
   "execution_count": 8,
   "id": "c4241db2",
   "metadata": {},
   "outputs": [
    {
     "data": {
      "text/plain": [
       "ask_price_0       30.60\n",
       "ask_size_0     18152.00\n",
       "bid_price_0       30.59\n",
       "bid_size_0      8002.00\n",
       "ask_price_1       30.61\n",
       "ask_size_1     20066.00\n",
       "bid_price_1       30.58\n",
       "bid_size_1     13081.00\n",
       "ask_price_2       30.62\n",
       "ask_size_2     19490.00\n",
       "bid_price_2       30.57\n",
       "bid_size_2     18546.00\n",
       "ask_price_3       30.63\n",
       "ask_size_3     17582.00\n",
       "bid_price_3       30.56\n",
       "bid_size_3     18993.00\n",
       "ask_price_4       30.64\n",
       "ask_size_4     18377.00\n",
       "bid_price_4       30.55\n",
       "bid_size_4     24030.00\n",
       "ask_price_5       30.65\n",
       "ask_size_5     15022.00\n",
       "bid_price_5       30.54\n",
       "bid_size_5     18452.00\n",
       "ask_price_6       30.66\n",
       "ask_size_6     20353.00\n",
       "bid_price_6       30.53\n",
       "bid_size_6     18536.00\n",
       "ask_price_7       30.67\n",
       "ask_size_7     12500.00\n",
       "bid_price_7       30.52\n",
       "bid_size_7     10370.00\n",
       "ask_price_8       30.68\n",
       "ask_size_8     12600.00\n",
       "bid_price_8       30.51\n",
       "bid_size_8     11935.00\n",
       "ask_price_9       30.69\n",
       "ask_size_9      8500.00\n",
       "bid_price_9       30.50\n",
       "bid_size_9     44627.00\n",
       "dtype: float64"
      ]
     },
     "execution_count": 8,
     "metadata": {},
     "output_type": "execute_result"
    }
   ],
   "source": [
    "results[\"orderbook\"]"
   ]
  },
  {
   "cell_type": "code",
   "execution_count": 9,
   "id": "cceacbe7",
   "metadata": {},
   "outputs": [],
   "source": [
    "imb = Imbalance(5)\n",
    "spread = Spread(max_spread=0.05, values_taken=5)\n",
    "mpc = MidpriceChange(max_change=0.15, values_taken=5)"
   ]
  },
  {
   "cell_type": "code",
   "execution_count": 10,
   "id": "56f41dee",
   "metadata": {},
   "outputs": [
    {
     "data": {
      "text/plain": [
       "0.25"
      ]
     },
     "execution_count": 10,
     "metadata": {},
     "output_type": "execute_result"
    }
   ],
   "source": [
    "imb.calculate(results)"
   ]
  },
  {
   "cell_type": "code",
   "execution_count": 11,
   "id": "45a9e761",
   "metadata": {},
   "outputs": [
    {
     "data": {
      "text/plain": [
       "0.0125"
      ]
     },
     "execution_count": 11,
     "metadata": {},
     "output_type": "execute_result"
    }
   ],
   "source": [
    "spread.calculate(results)"
   ]
  },
  {
   "cell_type": "code",
   "execution_count": 12,
   "id": "45aab79a",
   "metadata": {},
   "outputs": [
    {
     "data": {
      "text/plain": [
       "-0.075"
      ]
     },
     "execution_count": 12,
     "metadata": {},
     "output_type": "execute_result"
    }
   ],
   "source": [
    "mpc.calculate(results)"
   ]
  },
  {
   "cell_type": "code",
   "execution_count": 11,
   "id": "0fc58c06",
   "metadata": {},
   "outputs": [],
   "source": [
    "analyser = HistoricalBacktestAnalyser(backtester=backtester)"
   ]
  },
  {
   "cell_type": "code",
   "execution_count": 12,
   "id": "7065afc7",
   "metadata": {},
   "outputs": [
    {
     "data": {
      "text/html": [
       "<div>\n",
       "<style scoped>\n",
       "    .dataframe tbody tr th:only-of-type {\n",
       "        vertical-align: middle;\n",
       "    }\n",
       "\n",
       "    .dataframe tbody tr th {\n",
       "        vertical-align: top;\n",
       "    }\n",
       "\n",
       "    .dataframe thead th {\n",
       "        text-align: right;\n",
       "    }\n",
       "</style>\n",
       "<table border=\"1\" class=\"dataframe\">\n",
       "  <thead>\n",
       "    <tr style=\"text-align: right;\">\n",
       "      <th></th>\n",
       "      <th>Results</th>\n",
       "    </tr>\n",
       "  </thead>\n",
       "  <tbody>\n",
       "    <tr>\n",
       "      <th>Start</th>\n",
       "      <td>2012-06-21 12:00:00</td>\n",
       "    </tr>\n",
       "    <tr>\n",
       "      <th>End</th>\n",
       "      <td>2012-06-21 12:00:00</td>\n",
       "    </tr>\n",
       "    <tr>\n",
       "      <th></th>\n",
       "      <td>***</td>\n",
       "    </tr>\n",
       "    <tr>\n",
       "      <th>Total Return</th>\n",
       "      <td>-4.6</td>\n",
       "    </tr>\n",
       "    <tr>\n",
       "      <th>Fill Percentage</th>\n",
       "      <td>0.967742</td>\n",
       "    </tr>\n",
       "  </tbody>\n",
       "</table>\n",
       "</div>"
      ],
      "text/plain": [
       "                             Results\n",
       "Start            2012-06-21 12:00:00\n",
       "End              2012-06-21 12:00:00\n",
       "                                 ***\n",
       "Total Return                    -4.6\n",
       "Fill Percentage             0.967742"
      ]
     },
     "execution_count": 12,
     "metadata": {},
     "output_type": "execute_result"
    }
   ],
   "source": [
    "analyser.summary()"
   ]
  },
  {
   "cell_type": "code",
   "execution_count": null,
   "id": "7d68a4cf",
   "metadata": {},
   "outputs": [],
   "source": []
  }
 ],
 "metadata": {
  "kernelspec": {
   "display_name": "Python 3 (ipykernel)",
   "language": "python",
   "name": "python3"
  },
  "language_info": {
   "codemirror_mode": {
    "name": "ipython",
    "version": 3
   },
   "file_extension": ".py",
   "mimetype": "text/x-python",
   "name": "python",
   "nbconvert_exporter": "python",
   "pygments_lexer": "ipython3",
   "version": "3.8.11"
  },
  "toc": {
   "base_numbering": 1,
   "nav_menu": {},
   "number_sections": true,
   "sideBar": true,
   "skip_h1_title": false,
   "title_cell": "Table of Contents",
   "title_sidebar": "Contents",
   "toc_cell": false,
   "toc_position": {
    "height": "calc(100% - 180px)",
    "left": "10px",
    "top": "150px",
    "width": "223px"
   },
   "toc_section_display": true,
   "toc_window_display": true
  }
 },
 "nbformat": 4,
 "nbformat_minor": 5
}
