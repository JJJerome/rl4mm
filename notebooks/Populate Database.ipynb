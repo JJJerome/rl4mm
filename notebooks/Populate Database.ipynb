{
 "cells": [
  {
   "cell_type": "markdown",
   "id": "926dbbfe",
   "metadata": {},
   "source": [
    "# Populating Database with LOBSTER data"
   ]
  },
  {
   "cell_type": "code",
   "execution_count": 1,
   "id": "0ab5123f",
   "metadata": {},
   "outputs": [],
   "source": [
    "import sys\n",
    "\n",
    "sys.path.append(\"../\")\n",
    "from RL4MM.database.populate_database import *"
   ]
  },
  {
   "cell_type": "code",
   "execution_count": 2,
   "id": "47cdb1cb",
   "metadata": {},
   "outputs": [],
   "source": [
    "tickers = [\"MSFT\"] # ['AMZN','AAPL','GOOG','INTC','MSFT']\n",
    "exchange='NASDAQ'\n",
    "trading_dates = ['2012-06-21']\n",
    "levels = 10"
   ]
  },
  {
   "cell_type": "code",
   "execution_count": 3,
   "id": "5099335e",
   "metadata": {},
   "outputs": [
    {
     "name": "stderr",
     "output_type": "stream",
     "text": [
      "2021-11-01 12:05:57 INFO     Downloading book and message data for MSFT on 2012-06-21 from LOBSTER.\n",
      "2021-11-01 12:08:55 INFO     Inserting book and message data for MSFT on 2012-06-21 into database.\n",
      "2021-11-01 12:14:45 INFO     Successfully added data for tickers ['MSFT'] into database.\n"
     ]
    }
   ],
   "source": [
    "populate_database(tickers, trading_dates)"
   ]
  },
  {
   "cell_type": "code",
   "execution_count": null,
   "id": "6c4b69e9",
   "metadata": {},
   "outputs": [],
   "source": []
  }
 ],
 "metadata": {
  "kernelspec": {
   "display_name": "Python 3 (ipykernel)",
   "language": "python",
   "name": "python3"
  },
  "language_info": {
   "codemirror_mode": {
    "name": "ipython",
    "version": 3
   },
   "file_extension": ".py",
   "mimetype": "text/x-python",
   "name": "python",
   "nbconvert_exporter": "python",
   "pygments_lexer": "ipython3",
   "version": "3.8.11"
  },
  "toc": {
   "base_numbering": 1,
   "nav_menu": {},
   "number_sections": true,
   "sideBar": true,
   "skip_h1_title": false,
   "title_cell": "Table of Contents",
   "title_sidebar": "Contents",
   "toc_cell": false,
   "toc_position": {
    "height": "calc(100% - 180px)",
    "left": "10px",
    "top": "150px",
    "width": "189.915px"
   },
   "toc_section_display": true,
   "toc_window_display": true
  }
 },
 "nbformat": 4,
 "nbformat_minor": 5
}
