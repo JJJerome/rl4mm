{
 "cells": [
  {
   "cell_type": "markdown",
   "id": "following-cooler",
   "metadata": {},
   "source": [
    "# Simulating the Limit Order Book"
   ]
  },
  {
   "cell_type": "markdown",
   "id": "august-simulation",
   "metadata": {},
   "source": [
    "Look at data in df. Aggregate vía time then vía volume, etc and investigate statistical properties.\n",
    "\n",
    "Loop through data and after each aggregated box, make a decision. Filled according to market orders that arrived and book position (maybe assume that at back of queue first).\n",
    "\n",
    "For state: store midprice, tick size and your orders on +- 5ticks (start with just the touch)\n",
    "\n",
    "Aggregate cancellations with limit orders in the incoming block by number. All other cancellations must be ahead of you in the queue and so increase the chance of getting filled.\n",
    "\n",
    "Question: how do you deal with hidden orders? What are they, and how do they get placed the LOB?\n",
    "\n",
    "Look at past data and think about percentages of hidden limit orders"
   ]
  },
  {
   "cell_type": "code",
   "execution_count": 2,
   "id": "f34c674b",
   "metadata": {},
   "outputs": [],
   "source": [
    "import sys\n",
    "\n",
    "import ast\n",
    "import pandas as pd\n",
    "\n",
    "from typing import Tuple, Dict, DefaultDict, List, Any\n",
    "\n",
    "from datetime import datetime, timedelta\n",
    "from itertools import chain\n",
    "from pandas import Timedelta\n",
    "sys.path.append(\"../\")"
   ]
  },
  {
   "cell_type": "code",
   "execution_count": 3,
   "id": "863746a3",
   "metadata": {},
   "outputs": [],
   "source": [
    "from RL4MM.agents.AddTouchAgent import AddTouchAgent\n",
    "from RL4MM.backtest.BacktestAnalyser import HistoricalBacktestAnalyser\n",
    "from RL4MM.backtest.Backtester import Backtester\n",
    "from RL4MM.database.HistoricalDatabase import HistoricalDatabase\n",
    "from RL4MM.simulator.OrderbookSimulator import HistoricalOrderbookSimulator, OrderbookMessage, OrderbookSimulator"
   ]
  },
  {
   "cell_type": "code",
   "execution_count": 4,
   "id": "88af14de",
   "metadata": {},
   "outputs": [],
   "source": [
    "start_date=datetime(2012,6,21,9,30)\n",
    "end_date=datetime(2012,6,21,9,40)\n",
    "step_size = timedelta(seconds=10)\n",
    "exchange=\"NASDAQ\"\n",
    "ticker=\"MSFT\"\n",
    "\n",
    "database = HistoricalDatabase()\n",
    "\n",
    "agent = AddTouchAgent(ticker=ticker, order_size = 10)\n",
    "# simulator = HistoricalOrderbookSimulator(exchange=exchange, ticker=ticker, database=database)\n",
    "\n",
    "backtester = Backtester(agent=agent)"
   ]
  },
  {
   "cell_type": "code",
   "execution_count": 5,
   "id": "cd7a1446",
   "metadata": {},
   "outputs": [],
   "source": [
    "book_snaps=database.get_book_snapshots(start_date=start_date,end_date=end_date, exchange=exchange,ticker=ticker)"
   ]
  },
  {
   "cell_type": "code",
   "execution_count": null,
   "id": "a2febb36",
   "metadata": {},
   "outputs": [],
   "source": [
    "book_snaps.tail()"
   ]
  },
  {
   "cell_type": "code",
   "execution_count": 12,
   "id": "09abbe4f",
   "metadata": {},
   "outputs": [
    {
     "data": {
      "text/plain": [
       "ask_price_0        30.14\n",
       "ask_size_0      16600.00\n",
       "bid_price_0        30.13\n",
       "bid_size_0      50426.00\n",
       "ask_price_1        30.15\n",
       "ask_size_1      80663.00\n",
       "bid_price_1        30.12\n",
       "bid_size_1      83306.00\n",
       "ask_price_2        30.16\n",
       "ask_size_2      65399.00\n",
       "bid_price_2        30.11\n",
       "bid_size_2       8506.00\n",
       "ask_price_3        30.17\n",
       "ask_size_3      86886.00\n",
       "bid_price_3        30.10\n",
       "bid_size_3      43838.00\n",
       "ask_price_4        30.18\n",
       "ask_size_4     110006.00\n",
       "bid_price_4        30.09\n",
       "bid_size_4     167371.00\n",
       "ask_price_5        30.19\n",
       "ask_size_5      30006.00\n",
       "bid_price_5        30.08\n",
       "bid_size_5      13934.00\n",
       "ask_price_6        30.20\n",
       "ask_size_6      72106.00\n",
       "bid_price_6        30.07\n",
       "bid_size_6      46180.00\n",
       "ask_price_7        30.21\n",
       "ask_size_7      56700.00\n",
       "bid_price_7        30.06\n",
       "bid_size_7      23574.00\n",
       "ask_price_8        30.22\n",
       "ask_size_8      36532.00\n",
       "bid_price_8        30.05\n",
       "bid_size_8      23446.00\n",
       "ask_price_9        30.23\n",
       "ask_size_9      31600.00\n",
       "bid_price_9        30.04\n",
       "bid_size_9      36675.00\n",
       "Name: 2012-06-21 15:59:59.907797, dtype: float64"
      ]
     },
     "execution_count": 12,
     "metadata": {},
     "output_type": "execute_result"
    }
   ],
   "source": [
    "database.get_last_snapshot(timestamp=end_date, exchange=exchange,ticker=ticker)"
   ]
  },
  {
   "cell_type": "code",
   "execution_count": 6,
   "id": "6ae30d2e",
   "metadata": {},
   "outputs": [
    {
     "data": {
      "text/plain": [
       "datetime.datetime(2012, 6, 21, 12, 0)"
      ]
     },
     "execution_count": 6,
     "metadata": {},
     "output_type": "execute_result"
    }
   ],
   "source": [
    "start_date"
   ]
  },
  {
   "cell_type": "code",
   "execution_count": 7,
   "id": "dcbe11da",
   "metadata": {},
   "outputs": [
    {
     "data": {
      "text/plain": [
       "datetime.datetime(2012, 6, 21, 12, 12)"
      ]
     },
     "execution_count": 7,
     "metadata": {},
     "output_type": "execute_result"
    }
   ],
   "source": [
    "end_date"
   ]
  },
  {
   "cell_type": "markdown",
   "id": "23f56a73",
   "metadata": {},
   "source": [
    "## Creating a gym environment"
   ]
  },
  {
   "cell_type": "code",
   "execution_count": 6,
   "id": "030e8a5b",
   "metadata": {},
   "outputs": [],
   "source": [
    "import gym\n",
    "from gym import spaces"
   ]
  },
  {
   "cell_type": "code",
   "execution_count": 1,
   "id": "11d66249",
   "metadata": {},
   "outputs": [],
   "source": [
    "# Write me up"
   ]
  },
  {
   "cell_type": "code",
   "execution_count": null,
   "id": "248a07f6",
   "metadata": {},
   "outputs": [],
   "source": []
  }
 ],
 "metadata": {
  "kernelspec": {
   "display_name": "Python 3 (ipykernel)",
   "language": "python",
   "name": "python3"
  },
  "language_info": {
   "codemirror_mode": {
    "name": "ipython",
    "version": 3
   },
   "file_extension": ".py",
   "mimetype": "text/x-python",
   "name": "python",
   "nbconvert_exporter": "python",
   "pygments_lexer": "ipython3",
   "version": "3.8.11"
  },
  "toc": {
   "base_numbering": 1,
   "nav_menu": {},
   "number_sections": true,
   "sideBar": true,
   "skip_h1_title": false,
   "title_cell": "Table of Contents",
   "title_sidebar": "Contents",
   "toc_cell": false,
   "toc_position": {},
   "toc_section_display": true,
   "toc_window_display": true
  }
 },
 "nbformat": 4,
 "nbformat_minor": 5
}
